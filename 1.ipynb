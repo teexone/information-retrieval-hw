{
 "cells": [
  {
   "attachments": {},
   "cell_type": "markdown",
   "metadata": {},
   "source": [
    "# 0. Auxillary resources"
   ]
  },
  {
   "cell_type": "code",
   "execution_count": 16,
   "metadata": {},
   "outputs": [],
   "source": [
    "import os\n",
    "from hashlib import md5\n",
    "\n",
    "def get_unique_name(url, base_name):\n",
    "    \"\"\"\n",
    "    Handles the problem with file rewriting\n",
    "    \"\"\"\n",
    "    hash = md5((url + base_name).encode(\"utf-8\")).hexdigest()\n",
    "    return hash + base_name\n",
    "    "
   ]
  },
  {
   "cell_type": "markdown",
   "metadata": {},
   "source": [
    "# 1. Crawler\n",
    "\n",
    "## 1.0. Related example\n",
    "\n",
    "This code shows `wget`-like tool written in python. Run it from console (`python wget.py`), make it work. Check the code, reuse, and modify for your needs."
   ]
  },
  {
   "cell_type": "code",
   "execution_count": 17,
   "metadata": {},
   "outputs": [],
   "source": [
    "import argparse\n",
    "import re\n",
    "import requests\n",
    "\n",
    "\n",
    "def wget(url):\n",
    "    try:\n",
    "        # allow redirects - in case file is relocated\n",
    "        resp = requests.get(url, allow_redirects=True)\n",
    "    except:\n",
    "        return None, None\n",
    "\n",
    "    if not resp.ok:\n",
    "        return None, None\n",
    "\n",
    "    m = re.search(r\"https?:\\/\\/.*\\/([^?#\\/]*\\.[^?#\\/]+)?.*\", url)\n",
    "    filename = m.group(1)\n",
    "\n",
    "    if filename is None or filename == \"\":  # if filename is not recognized or recognized as empty\n",
    "        filename = \"index.html\"             # assume it is a html page\n",
    "\n",
    "    return filename, resp.content"
   ]
  },
  {
   "cell_type": "markdown",
   "metadata": {},
   "source": [
    "### 1.0.1. How to parse a page?\n",
    "\n",
    "If you build a crawler, you might follow one of the approaches:\n",
    "1. search for URLs in the page, assuming this is just a text.\n",
    "2. search for URLs in the places where URLs should appear: `<a href=..`, `<img src=...`, `<iframe src=...` and so on.\n",
    "\n",
    "To follow the first approach you can rely on some good regular expression. [Like this](https://stackoverflow.com/a/3809435).\n",
    "\n",
    "To follow the second approach just read one of these: [short answer](https://stackoverflow.com/questions/1080411/retrieve-links-from-web-page-using-python-and-beautifulsoup) or [exhaustive explanation](https://hackersandslackers.com/scraping-urls-with-beautifulsoup/)."
   ]
  },
  {
   "cell_type": "markdown",
   "metadata": {},
   "source": [
    "## 1.1. [15] Download and persist #\n",
    "Please complete a code for `load()`, `download()` and `persist()` methods of `Document` class. What they do:\n",
    "- for a given URL `download()` method downloads binary data and stores in `self.content`. It returns `True` for success, else `False`.\n",
    "- `persist()` method saves `self.content` somewhere in file system. We do it to avoid multiple downloads (for caching in other words).\n",
    "- `load()` method loads data from hard drive. Returns `True` for success.\n",
    "\n",
    "Tests checks that your code somehow works.\n",
    "\n",
    "**NB Passing the test doesn't mean you correctly completed the task.** These are **criteria, which have to be fullfilled**:\n",
    "1. URL is a unique identifier (as it is a subset of URI). Thus, documents with different URLs should be stored in different files. Typical errors: documents from the same domain are overwritten to the same file, URLs with similar endings are downloaded to the same file, etc.\n",
    "2. The document can be not only a text file, but also a binary. Pay attention that if you download `mp3` file, it still can be played. Hint: don't hurry to convert everything to text."
   ]
  },
  {
   "cell_type": "code",
   "execution_count": 18,
   "metadata": {},
   "outputs": [],
   "source": [
    "import requests\n",
    "from urllib.parse import quote\n",
    "\n",
    "class Document:\n",
    "    \n",
    "    def __init__(self, url):\n",
    "        if not re.match(r\"https?:\\/\\/.*\\/.*\", url):\n",
    "            url += \"/\"\n",
    "\n",
    "        self.url = url\n",
    "        self.content = None\n",
    "        self._filename = None\n",
    "        \n",
    "    def get(self):\n",
    "        if not self.load():\n",
    "            if not self.download():\n",
    "                raise FileNotFoundError(self.url)\n",
    "            else:\n",
    "                self.persist()\n",
    "    \n",
    "    def download(self):\n",
    "        self._filename, self.content = wget(self.url)\n",
    "        ok = self.content is not None\n",
    "        if ok:\n",
    "            self._filename = get_unique_name(self.url, self._filename)\n",
    "        return ok\n",
    "    \n",
    "    def persist(self):\n",
    "        if self.content is None:\n",
    "            raise ValueError(\"Invalid state: no content loaded\")\n",
    "            \n",
    "        with open(self._filename.encode(\"utf-8\"), \"wb+\") as f:\n",
    "                f.write(self.content)\n",
    "    \n",
    "            \n",
    "    def load(self):\n",
    "        if self._filename is None or not os.path.exists(self._filename):\n",
    "            return False\n",
    "        else:\n",
    "            try:\n",
    "                with open(self._filename, \"rb\") as f:\n",
    "                    self.content = f.read()\n",
    "            except (IOError, OSError):\n",
    "                return False\n",
    "            else:\n",
    "                return True\n",
    "            "
   ]
  },
  {
   "cell_type": "markdown",
   "metadata": {},
   "source": [
    "### 1.1.1. Tests ###"
   ]
  },
  {
   "cell_type": "code",
   "execution_count": 19,
   "metadata": {},
   "outputs": [],
   "source": [
    "doc = Document('http://sprotasov.ru/data/iu.txt')\n",
    "\n",
    "doc.get()\n",
    "assert doc.content, \"Document download failed\"\n",
    "assert \"Code snippets, demos and labs for the course\" in str(doc.content), \"Document content error\"\n",
    "\n",
    "doc.get()\n",
    "assert doc.load(), \"Load should return true for saved document\"\n",
    "assert \"Code snippets, demos and labs for the course\" in str(doc.content), \"Document load from disk error\""
   ]
  },
  {
   "cell_type": "code",
   "execution_count": 20,
   "metadata": {},
   "outputs": [],
   "source": [
    "music_doc = Document(\"https://download.samplelib.com/mp3/sample-3s.mp3\")\n",
    "music_doc.get()\n",
    "assert doc.content, \"Document download failed\""
   ]
  },
  {
   "cell_type": "markdown",
   "metadata": {},
   "source": [
    "## 1.2. [10] Parse HTML\n",
    "`BeautifulSoap` library is a de facto standard to parse XML and HTML documents in python. Use it to complete `parse()` method that extracts document contents. You should initialize:\n",
    "1. `self.anchors` list of tuples `('text', 'url')` met in a document. Be aware, there exist relative links (e.g. `../content/pic.jpg`). Use `urllib.parse.urljoin()` to fix this issue.\n",
    "2. `self.images` list of images met in a document. Again, links can be relative to current page.\n",
    "3. `self.text` should keep plain text of the document without scripts, tags, comments and so on. You can refer to [this stackoverflow answer](https://stackoverflow.com/a/1983219) for details.\n",
    "\n",
    "**NB All these 3 criteria must be fulfilled to get full point for the task.**"
   ]
  },
  {
   "cell_type": "code",
   "execution_count": 21,
   "metadata": {},
   "outputs": [],
   "source": [
    "import nltk\n",
    "\n",
    "from bs4 import BeautifulSoup\n",
    "from bs4.element import Comment\n",
    "import urllib.parse\n",
    "\n",
    "\n",
    "class HtmlDocument(Document):\n",
    "    \n",
    "    def parse(self):\n",
    "        if self.content is None:\n",
    "            raise ValueError(\"Invalid state: document is not loaded\")\n",
    "        \n",
    "        soup = BeautifulSoup(self.content)\n",
    "\n",
    "        anchors = soup.select(\"a\")\n",
    "        self.anchors = []\n",
    "\n",
    "        for anchor in anchors:\n",
    "            if anchor.has_attr(\"href\"):\n",
    "                address = urllib.parse.urljoin(self.url, anchor.attrs[\"href\"])\n",
    "                if address.startswith(\"http\"):\n",
    "                    self.anchors.append((anchor.string, address,))\n",
    "        \n",
    "        self.text = soup.get_text(separator='\\n')\n",
    "        \n",
    "        images = soup.select(\"img\")\n",
    "        self.images = []\n",
    "        \n",
    "        for image in images:\n",
    "            if image.has_attr(\"src\"):\n",
    "                self.images.append(urllib.parse.urljoin(self.url, image.attrs[\"src\"]))\n",
    "\n"
   ]
  },
  {
   "cell_type": "markdown",
   "metadata": {},
   "source": [
    "### 1.2.1. Tests"
   ]
  },
  {
   "cell_type": "code",
   "execution_count": 22,
   "metadata": {},
   "outputs": [],
   "source": [
    "doc = HtmlDocument(\"http://sprotasov.ru\")\n",
    "doc.get()\n",
    "doc.parse()\n",
    "\n",
    "assert \"just few links\" in doc.text, \"Error parsing text\"\n",
    "assert \"http://sprotasov.ru/images/gb.svg\" in doc.images, \"Error parsing images\"\n",
    "assert any(p[1] == \"https://twitter.com/07C3\" for p in doc.anchors), \"Error parsing links\""
   ]
  },
  {
   "cell_type": "code",
   "execution_count": 23,
   "metadata": {},
   "outputs": [
    {
     "name": "stdout",
     "output_type": "stream",
     "text": [
      "About | Aleksandr Lobanov\n",
      "Achievements\n",
      " \n",
      "About\n",
      " \n",
      "Projects\n",
      " \n",
      "Aleksandr Lobanov\n",
      "Aleksandr\n",
      "Lobanov\n",
      "Full Stack Developer & ML Engineer\n",
      "Nice to meet you! I am Alex, a frontend and backend developer, and a machine learning engineer. I am doing my bachelor's degree in Applied Artificial Intelligence at Innopolis University. I have been working on various projects such are web applications, analytics services, servers and others for three years. I am quickly trained and adaptive person who is always searching for something new and exciting. Also, I love participating in different competitions and often take the lead in them.\n",
      "Curriculum Vitae\n",
      "СV\n",
      "Projects\n",
      "About\n",
      " \n",
      "Achievements\n",
      "Projects\n",
      "About\n",
      "Nice to meet you! I am Alex, a frontend and backend developer, and a machine learning engineer. I am doing my bachelor's degree in Applied Artificial Intelligence at Innopolis University. I have been working on various projects such are web applications, analytics services, servers and others for three years. I am quickly trained and adaptive person who is always searching for something new and exciting. Also, I love participating in different competitions and often take the lead in them.\n",
      "Curriculum Vitae\n",
      "СV\n",
      "Projects\n"
     ]
    }
   ],
   "source": [
    "doc = HtmlDocument(\"https://alobanov.space\")\n",
    "doc.get()\n",
    "doc.parse()\n",
    "\n",
    "print(doc.text)"
   ]
  },
  {
   "cell_type": "markdown",
   "metadata": {},
   "source": [
    "## 1.3. [10] Document analysis ##\n",
    "Complete the code for `HtmlDocumentTextData` class. Implement word and sentence splitting (use any method you can propose). \n",
    "\n",
    "**Criteria to succeed in the task**: \n",
    "1. Your `get_word_stats()` method should return `Counter` object.\n",
    "2. Don't forget to lowercase your words for counting.\n",
    "3. Sentences should be obtained from inside `<body>` tag only."
   ]
  },
  {
   "cell_type": "code",
   "execution_count": 24,
   "metadata": {},
   "outputs": [],
   "source": [
    "from nltk.tokenize import sent_tokenize, word_tokenize\n",
    "from collections import Counter\n",
    "\n",
    "class HtmlDocumentTextData:\n",
    "    \n",
    "    def __init__(self, url=None, doc=None):\n",
    "        if doc is not None:\n",
    "            self.doc = doc\n",
    "            return\n",
    "        \n",
    "        if url is None:\n",
    "            raise ValueError(\"Either url or doc argument should be specified\")\n",
    "\n",
    "        self.doc = HtmlDocument(url)\n",
    "        self.doc.get()\n",
    "        self.doc.parse()\n",
    "\n",
    "\n",
    "    \n",
    "    def get_sentences(self):\n",
    "        result = sent_tokenize(self.doc.text)\n",
    "        return result\n",
    "    \n",
    "    def get_word_stats(self):\n",
    "        words = sum([word_tokenize(sent) for sent in self.get_sentences()], list())\n",
    "        words = list(filter(lambda x: x not in [\",\", \".\", \"!\", \":\", \";\"], words))\n",
    "        words = list(map(lambda s: s.lower(), words))\n",
    "        return Counter(words)"
   ]
  },
  {
   "cell_type": "markdown",
   "metadata": {},
   "source": [
    "### 1.3.1. Tests ###"
   ]
  },
  {
   "cell_type": "code",
   "execution_count": 25,
   "metadata": {},
   "outputs": [
    {
     "name": "stdout",
     "output_type": "stream",
     "text": [
      "[('и', 44), ('в', 22), ('иннополис', 21), ('с', 13), ('университет', 12), ('на', 12), ('университета', 11), ('центр', 10), ('«', 10), ('»', 10)]\n"
     ]
    }
   ],
   "source": [
    "doc = HtmlDocumentTextData(\"https://innopolis.university/\")\n",
    "\n",
    "print(doc.get_word_stats().most_common(10))\n",
    "assert [x for x in doc.get_word_stats().most_common(10) if x[0] == 'иннополис'], 'иннополис should be among most common'"
   ]
  },
  {
   "cell_type": "markdown",
   "metadata": {},
   "source": [
    "## 1.4. [15] Crawling ##\n",
    "\n",
    "Method `crawl_generator()` is given starting url (`source`) and max depth of search. It should return a **generator** of `HtmlDocumentTextData` objects (return a document as soon as it is downloaded and parsed). You can benefit from `yield obj_name` python construction. Use `HtmlDocumentTextData.anchors` field to go deeper."
   ]
  },
  {
   "cell_type": "code",
   "execution_count": 26,
   "metadata": {},
   "outputs": [],
   "source": [
    "from queue import Queue\n",
    "\n",
    "class Crawler:\n",
    "    \n",
    "    def crawl_generator(self, source, depth=1):\n",
    "        level = {source}\n",
    "        visited = set(source)\n",
    "        for i in range(1 + depth):\n",
    "            next_level = set()\n",
    "            for link in level:\n",
    "                if link in visited: \n",
    "                    # Skip visited\n",
    "                    continue\n",
    "                visited.add(link)\n",
    "\n",
    "                try:\n",
    "                    document = HtmlDocument(link)\n",
    "                    document.get()\n",
    "                    document.parse()\n",
    "                except:\n",
    "                    continue\n",
    "\n",
    "                next_level = next_level.union(map(lambda x: x[1], document.anchors))\n",
    "                links = map(lambda x: HtmlDocument(x[1]), document.anchors)\n",
    "                yield HtmlDocumentTextData(doc=document)\n",
    "            level = next_level\n",
    "        "
   ]
  },
  {
   "cell_type": "markdown",
   "metadata": {},
   "source": [
    "### 1.4.1. Tests ###"
   ]
  },
  {
   "cell_type": "code",
   "execution_count": 28,
   "metadata": {},
   "outputs": [
    {
     "name": "stdout",
     "output_type": "stream",
     "text": [
      "https://innopolis.university/en/\n",
      "346 distinct word(s) so far\n",
      "https://media.innopolis.university/news/innopolis-university-extends-international-application-deadline-/\n",
      "665 distinct word(s) so far\n",
      "https://www.youtube.com/user/InnopolisU\n",
      "687 distinct word(s) so far\n",
      "https://apply.innopolis.ru/en/\n",
      "2841 distinct word(s) so far\n",
      "https://media.innopolis.university/en\n",
      "2920 distinct word(s) so far\n",
      "https://innopolis.university/en/ido/\n",
      "3012 distinct word(s) so far\n",
      "https://innopolis.university/en/internationalpartners/\n",
      "3195 distinct word(s) so far\n",
      "https://innopolis.university/en/outgoingstudents/\n",
      "4030 distinct word(s) so far\n",
      "https://panoroo.com/virtual-tours/NvQZM6B2\n",
      "4033 distinct word(s) so far\n",
      "https://innopolis.university/en/faculty/\n",
      "4895 distinct word(s) so far\n",
      "https://vk.com/innopolisu\n",
      "5071 distinct word(s) so far\n",
      "https://innopolis.university/\n",
      "5094 distinct word(s) so far\n",
      "https://career.innopolis.university/konkursnyezayavkiprofessorskoprepodavatelskogosostava/\n",
      "5198 distinct word(s) so far\n",
      "https://media.innopolis.university/en/events/\n",
      "5201 distinct word(s) so far\n",
      "https://innopolis.university/en/team-structure/team-faculty2/\n",
      "5219 distinct word(s) so far\n",
      "https://innopolis.university/en/team-structure/team-faculty/\n",
      "5237 distinct word(s) so far\n",
      "https://innopolis.university/en/proekty/activity/\n",
      "5291 distinct word(s) so far\n",
      "https://innopolis.university/en/organizatsiya-i-provedenie-meropriyatiy/\n",
      "5482 distinct word(s) so far\n",
      "https://minobrnauki.gov.ru/\n",
      "5725 distinct word(s) so far\n",
      "https://innopolis.university/en/team/\n",
      "5726 distinct word(s) so far\n",
      "https://career.innopolis.university/en/\n",
      "5843 distinct word(s) so far\n",
      "https://innopolis.university/en/writinghubhome/\n",
      "5862 distinct word(s) so far\n",
      "https://apply.innopolis.university/en/postgraduate-study/\n",
      "5901 distinct word(s) so far\n",
      "https://career.innopolis.university/en/job/\n",
      "6324 distinct word(s) so far\n",
      "https://innopolis.university/lk/\n",
      "6333 distinct word(s) so far\n",
      "https://innopolis.university/en/board/\n",
      "6398 distinct word(s) so far\n",
      "https://media.innopolis.university/news/webinar-for-international-candidates-/\n",
      "6410 distinct word(s) so far\n",
      "https://apply.innopolis.university/en/\n",
      "6673 distinct word(s) so far\n",
      "https://innopolis.university/en/about/\n",
      "6750 distinct word(s) so far\n",
      "https://media.innopolis.university/news/self-driven-school/\n",
      "6827 distinct word(s) so far\n",
      "https://innopolis.university/en/contacts/\n",
      "6834 distinct word(s) so far\n",
      "https://dovuz.innopolis.university/\n",
      "6951 distinct word(s) so far\n",
      "https://innopolis.university/search/\n",
      "6952 distinct word(s) so far\n",
      "https://innopolis.university/en/startupstudio/\n",
      "6991 distinct word(s) so far\n",
      "https://media.innopolis.university/news/cyber-resilience-petrenko/\n",
      "7127 distinct word(s) so far\n",
      "https://apply.innopolis.university/en/stud-life/\n",
      "7181 distinct word(s) so far\n",
      "https://innopolis.university/en/incomingstudents/\n",
      "7529 distinct word(s) so far\n",
      "https://innopolis.university/en/research/\n",
      "7556 distinct word(s) so far\n",
      "https://media.innopolis.university/news/devops-summer-school/\n",
      "7653 distinct word(s) so far\n",
      "https://innopolis.university/en/team-structure/techcenters/\n",
      "7655 distinct word(s) so far\n",
      "https://apply.innopolis.university/en\n",
      "7655 distinct word(s) so far\n",
      "https://innopolis.university/en/form/\n",
      "7747 distinct word(s) so far\n",
      "https://alumni.innopolis.university/\n",
      "7892 distinct word(s) so far\n",
      "https://innopolis.university/en/teachingexcellencecenter/\n",
      "8049 distinct word(s) so far\n"
     ]
    },
    {
     "name": "stderr",
     "output_type": "stream",
     "text": [
      "Some characters could not be decoded, and were replaced with REPLACEMENT CHARACTER.\n"
     ]
    },
    {
     "name": "stdout",
     "output_type": "stream",
     "text": [
      "https://innopolis.university/public/files/Consent_to_the_processing_of_PD_for_UI.pdf\n",
      "Skipping https://innopolis.university/public/files/Consent_to_the_processing_of_PD_for_UI.pdf\n",
      "https://innopolis.university/en/campus\n",
      "8125 distinct word(s) so far\n",
      "https://media.innopolis.university/en/\n",
      "8125 distinct word(s) so far\n",
      "https://media.innopolis.university/news/webinar-interstudents-eng/\n",
      "8130 distinct word(s) so far\n",
      "https://media.innopolis.university/en/news/\n",
      "8130 distinct word(s) so far\n",
      "https://t.me/universityinnopolis\n",
      "8136 distinct word(s) so far\n",
      "https://media.innopolis.university/news/registration-innopolis-open-2020/\n",
      "8202 distinct word(s) so far\n",
      "https://apply.innopolis.university/en/master/\n",
      "8213 distinct word(s) so far\n",
      "https://innopolis.university/en/team-structure/\n",
      "8214 distinct word(s) so far\n",
      "https://innopolis.university/en/team-structure/education-academics/\n",
      "8214 distinct word(s) so far\n",
      "https://apply.innopolis.university/en/bachelor/\n",
      "8249 distinct word(s) so far\n",
      "https://innopolis.university/en/nir2022/\n",
      "8413 distinct word(s) so far\n",
      "https://innopolis.university/en/international-relations-office/\n",
      "8421 distinct word(s) so far\n",
      "https://innopolis.university/en/?special=Y\n",
      "8430 distinct word(s) so far\n",
      "Done\n",
      "[('the', 2880), ('and', 2600), ('of', 2371), ('in', 1446), ('to', 1421), ('university', 1206), (')', 1050), ('(', 1012), ('a', 892), ('for', 888), ('innopolis', 665), ('i', 576), ('и', 575), ('at', 563), ('is', 551), ('it', 494), ('в', 458), ('research', 430), ('with', 421), ('•', 419)]\n"
     ]
    }
   ],
   "source": [
    "crawler = Crawler()\n",
    "counter = Counter()\n",
    "\n",
    "# I have intentially changed depth from 2 to 1 since the number of links \n",
    "# that appears with depth=2 is too large to be proceed with my local machine\n",
    "\n",
    "for c in crawler.crawl_generator(\"https://innopolis.university/en/\", depth=1):\n",
    "    print(c.doc.url)\n",
    "    if c.doc.url[-4:] in ('.pdf', '.mp3', '.avi', '.mp4', '.txt'):\n",
    "        print(\"Skipping\", c.doc.url)\n",
    "        continue\n",
    "    counter.update(c.get_word_stats())\n",
    "    print(len(counter), \"distinct word(s) so far\")\n",
    "    \n",
    "print(\"Done\")\n",
    "\n",
    "print(counter.most_common(20))\n",
    "assert [x for x in counter.most_common(20) if x[0] == 'innopolis'], 'innopolis sould be among most common'"
   ]
  }
 ],
 "metadata": {
  "kernelspec": {
   "display_name": "mlenv",
   "language": "python",
   "name": "python3"
  },
  "language_info": {
   "codemirror_mode": {
    "name": "ipython",
    "version": 3
   },
   "file_extension": ".py",
   "mimetype": "text/x-python",
   "name": "python",
   "nbconvert_exporter": "python",
   "pygments_lexer": "ipython3",
   "version": "3.10.8"
  },
  "vscode": {
   "interpreter": {
    "hash": "08a1b6d78b12a873d45f962f98da3008f45af31f504ce721cfef4bd13a47bdbd"
   }
  }
 },
 "nbformat": 4,
 "nbformat_minor": 4
}
