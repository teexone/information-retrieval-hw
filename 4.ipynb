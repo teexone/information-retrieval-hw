{
 "cells": [
  {
   "attachments": {},
   "cell_type": "markdown",
   "metadata": {
    "tags": []
   },
   "source": [
    "# Suggest\n",
    "\n",
    "One of the strategies to improve user experience is to provide user with hints, or, otherwise, to autocomplete his queries. Let's consider suggest.\n",
    "\n",
    "Today we will practice generating suggestions using [Trie](https://en.wikipedia.org/wiki/Trie) data structure (prefix tree), see the example below.\n",
    "\n",
    "Plan of your homework:\n",
    "\n",
    "1. Build Trie based on real search query data, provided by AOL company;\n",
    "2. Generate suggestion based on a trie;\n",
    "3. Measure suggestion speed;\n",
    "\n",
    "![image](https://www.ritambhara.in/wp-content/uploads/2017/05/Screen-Shot-2017-05-01-at-4.01.38-PM.png)\n",
    "\n",
    "## 0. Install Trie data structure support\n",
    "\n",
    "You are free to use any library implementation of Trie, as well as the one we suggest (read the docs before asking any questions!): https://github.com/google/pygtrie"
   ]
  },
  {
   "cell_type": "code",
   "execution_count": 1,
   "metadata": {},
   "outputs": [
    {
     "name": "stdout",
     "output_type": "stream",
     "text": [
      "Requirement already satisfied: pygtrie in c:\\users\\aleksandr\\appdata\\local\\packages\\pythonsoftwarefoundation.python.3.10_qbz5n2kfra8p0\\localcache\\local-packages\\python310\\site-packages (2.5.0)\n",
      "Requirement already satisfied: nltk in c:\\users\\aleksandr\\appdata\\local\\packages\\pythonsoftwarefoundation.python.3.10_qbz5n2kfra8p0\\localcache\\local-packages\\python310\\site-packages (3.8.1)\n",
      "Requirement already satisfied: click in c:\\users\\aleksandr\\appdata\\local\\packages\\pythonsoftwarefoundation.python.3.10_qbz5n2kfra8p0\\localcache\\local-packages\\python310\\site-packages (from nltk) (8.1.3)\n",
      "Requirement already satisfied: joblib in c:\\users\\aleksandr\\appdata\\local\\packages\\pythonsoftwarefoundation.python.3.10_qbz5n2kfra8p0\\localcache\\local-packages\\python310\\site-packages (from nltk) (1.2.0)\n",
      "Requirement already satisfied: regex>=2021.8.3 in c:\\users\\aleksandr\\appdata\\local\\packages\\pythonsoftwarefoundation.python.3.10_qbz5n2kfra8p0\\localcache\\local-packages\\python310\\site-packages (from nltk) (2023.3.23)\n",
      "Requirement already satisfied: tqdm in c:\\users\\aleksandr\\appdata\\local\\packages\\pythonsoftwarefoundation.python.3.10_qbz5n2kfra8p0\\localcache\\local-packages\\python310\\site-packages (from nltk) (4.65.0)\n",
      "Requirement already satisfied: colorama in c:\\users\\aleksandr\\appdata\\local\\packages\\pythonsoftwarefoundation.python.3.10_qbz5n2kfra8p0\\localcache\\local-packages\\python310\\site-packages (from click->nltk) (0.4.5)\n",
      "Note: you may need to restart the kernel to use updated packages.\n"
     ]
    },
    {
     "name": "stderr",
     "output_type": "stream",
     "text": [
      "\n",
      "[notice] A new release of pip is available: 23.1 -> 23.1.2\n",
      "[notice] To update, run: C:\\Users\\Aleksandr\\AppData\\Local\\Microsoft\\WindowsApps\\PythonSoftwareFoundation.Python.3.10_qbz5n2kfra8p0\\python.exe -m pip install --upgrade pip\n"
     ]
    }
   ],
   "source": [
    "%pip install pygtrie nltk"
   ]
  },
  {
   "cell_type": "code",
   "execution_count": 2,
   "metadata": {},
   "outputs": [],
   "source": [
    "import pandas as pd\n",
    "import pygtrie\n",
    "import nltk\n",
    "import gzip\n",
    "from tqdm import tqdm\n",
    "from nltk.corpus import stopwords"
   ]
  },
  {
   "cell_type": "markdown",
   "metadata": {},
   "source": [
    "## 1. Build a trie upon a dataset\n",
    "\n",
    "### 1.1. [5] Read the dataset\n",
    "\n",
    "Download the [dataset](https://github.com/IUCVLab/information-retrieval/tree/main/datasets/aol) (we provide only the first part of the original data for simplicity (~3.5 mln queries)).\n",
    "\n",
    "Explore the data, see readme file. Load the dataset. Pass the assert."
   ]
  },
  {
   "cell_type": "code",
   "execution_count": 3,
   "metadata": {},
   "outputs": [
    {
     "name": "stderr",
     "output_type": "stream",
     "text": [
      "Connecting to github.com (140.82.121.4:443)\n",
      "Connecting to raw.githubusercontent.com (185.199.109.133:443)\n",
      "wget: can't open 'user-ct-test-collection-01.txt.gz': File exists\n"
     ]
    }
   ],
   "source": [
    "!wget https://github.com/IUCVLab/information-retrieval/raw/main/datasets/aol/user-ct-test-collection-01.txt.gz\n",
    "with gzip.open(\"user-ct-test-collection-01.txt.gz\") as f:\n",
    "    contents = f.read()\n",
    "    with open(\"./user-ct-test-collection-01.txt\", \"wb+\") as f:\n",
    "        f.write(contents)\n",
    "    DATASET_PATH = \"./user-ct-test-collection-01.txt\""
   ]
  },
  {
   "cell_type": "code",
   "execution_count": 4,
   "metadata": {},
   "outputs": [
    {
     "data": {
      "text/html": [
       "<div>\n",
       "<style scoped>\n",
       "    .dataframe tbody tr th:only-of-type {\n",
       "        vertical-align: middle;\n",
       "    }\n",
       "\n",
       "    .dataframe tbody tr th {\n",
       "        vertical-align: top;\n",
       "    }\n",
       "\n",
       "    .dataframe thead th {\n",
       "        text-align: right;\n",
       "    }\n",
       "</style>\n",
       "<table border=\"1\" class=\"dataframe\">\n",
       "  <thead>\n",
       "    <tr style=\"text-align: right;\">\n",
       "      <th></th>\n",
       "      <th>AnonID</th>\n",
       "      <th>Query</th>\n",
       "      <th>QueryTime</th>\n",
       "      <th>ItemRank</th>\n",
       "      <th>ClickURL</th>\n",
       "    </tr>\n",
       "  </thead>\n",
       "  <tbody>\n",
       "    <tr>\n",
       "      <th>0</th>\n",
       "      <td>142</td>\n",
       "      <td>rentdirect.com</td>\n",
       "      <td>2006-03-01 07:17:12</td>\n",
       "      <td>NaN</td>\n",
       "      <td>NaN</td>\n",
       "    </tr>\n",
       "    <tr>\n",
       "      <th>1</th>\n",
       "      <td>142</td>\n",
       "      <td>www.prescriptionfortime.com</td>\n",
       "      <td>2006-03-12 12:31:06</td>\n",
       "      <td>NaN</td>\n",
       "      <td>NaN</td>\n",
       "    </tr>\n",
       "    <tr>\n",
       "      <th>2</th>\n",
       "      <td>142</td>\n",
       "      <td>staple.com</td>\n",
       "      <td>2006-03-17 21:19:29</td>\n",
       "      <td>NaN</td>\n",
       "      <td>NaN</td>\n",
       "    </tr>\n",
       "    <tr>\n",
       "      <th>3</th>\n",
       "      <td>142</td>\n",
       "      <td>staple.com</td>\n",
       "      <td>2006-03-17 21:19:45</td>\n",
       "      <td>NaN</td>\n",
       "      <td>NaN</td>\n",
       "    </tr>\n",
       "    <tr>\n",
       "      <th>4</th>\n",
       "      <td>142</td>\n",
       "      <td>www.newyorklawyersite.com</td>\n",
       "      <td>2006-03-18 08:02:58</td>\n",
       "      <td>NaN</td>\n",
       "      <td>NaN</td>\n",
       "    </tr>\n",
       "  </tbody>\n",
       "</table>\n",
       "</div>"
      ],
      "text/plain": [
       "   AnonID                        Query            QueryTime  ItemRank ClickURL\n",
       "0     142               rentdirect.com  2006-03-01 07:17:12       NaN      NaN\n",
       "1     142  www.prescriptionfortime.com  2006-03-12 12:31:06       NaN      NaN\n",
       "2     142                   staple.com  2006-03-17 21:19:29       NaN      NaN\n",
       "3     142                   staple.com  2006-03-17 21:19:45       NaN      NaN\n",
       "4     142    www.newyorklawyersite.com  2006-03-18 08:02:58       NaN      NaN"
      ]
     },
     "execution_count": 4,
     "metadata": {},
     "output_type": "execute_result"
    }
   ],
   "source": [
    "aol_data = pd.read_csv(DATASET_PATH, sep='\\t')\n",
    "aol_data.head()"
   ]
  },
  {
   "cell_type": "code",
   "execution_count": 5,
   "metadata": {},
   "outputs": [
    {
     "name": "stdout",
     "output_type": "stream",
     "text": [
      "<class 'pandas.core.series.Series'>\n",
      "RangeIndex: 3558411 entries, 0 to 3558410\n",
      "Series name: ItemRank\n",
      "Non-Null Count    Dtype  \n",
      "--------------    -----  \n",
      "1890568 non-null  float64\n",
      "dtypes: float64(1)\n",
      "memory usage: 27.1 MB\n"
     ]
    }
   ],
   "source": [
    "aol_data['ItemRank'].info()"
   ]
  },
  {
   "cell_type": "code",
   "execution_count": 6,
   "metadata": {},
   "outputs": [],
   "source": [
    "assert aol_data.shape[0] == 3558411, \"Dataset size does not match\""
   ]
  },
  {
   "cell_type": "markdown",
   "metadata": {},
   "source": [
    "### 1.2. [10] Build a Trie\n",
    "\n",
    "We want a suggest function to be **non-sensitive to stop words** because we don't want to upset the users if they confuses/omits prepositions. Consider *\"public events in Innopolis\"* vs *\"public events at Innopolis\"* or *\"public events Innopolis\"* - they all mean the same.\n",
    "\n",
    "Build a Trie based on the dataset, **storing query statistics such as query _frequency_, urls and ranks in the nodes**. Some queries may have no associated urls, others may have multiple ranked urls. Think of the way to store this information.\n",
    "\n",
    "Pass the asserts."
   ]
  },
  {
   "cell_type": "code",
   "execution_count": 7,
   "metadata": {},
   "outputs": [],
   "source": [
    "class TrieNode:\n",
    "    \"\"\" Represents a node in the Trie data structure. \"\"\"\n",
    "\n",
    "    def __init__(self):\n",
    "        \"\"\" Initialize this node in the Trie. \"\"\"\n",
    "        self.frequencies = list() # list of frequencies\n",
    "        self.urls = list() # list of urls\n",
    "        self.ranks = list() # list of ranks\n",
    "        self.queries = list() # list of full-text queries\n",
    "        \n",
    "    \n",
    "    def add(self, frequency, url, rank, query):\n",
    "        self.frequencies.append(frequency)\n",
    "        self.urls.append(url)\n",
    "        self.ranks.append(rank)\n",
    "        self.queries.append(query)\n",
    "        return self\n",
    "\n",
    "    def __str__(self):\n",
    "        return f\"TrieNode[{self.frequencies[:5]}, {self.queries[:5]}]\"\n",
    "\n",
    "    def __repr__(self):\n",
    "        return f\"TrieNode[{self.frequencies[:5]}, {self.queries[:5]}]\"\n"
   ]
  },
  {
   "cell_type": "code",
   "execution_count": 8,
   "metadata": {},
   "outputs": [],
   "source": [
    "stops = set('a on at of to is from for and with using the in &'.split())\n",
    "\n",
    "def filter_query(query):\n",
    "    if pd.isnull(query) or pd.isna(query):\n",
    "        return None\n",
    "    return \" \".join(filter(lambda x: x not in stops, query.split()))"
   ]
  },
  {
   "cell_type": "code",
   "execution_count": 9,
   "metadata": {},
   "outputs": [],
   "source": [
    "data = aol_data.copy()\n",
    "data['ShortQuery'] = data['Query'].copy()\n",
    "data['ShortQuery'] = data['ShortQuery'].apply(filter_query) \n",
    "data['ClickURL'] = data['ClickURL'].apply(lambda x: None if pd.isna(x) else x) \n",
    "data['ItemRank'] = data['ItemRank'].apply(lambda x: None if pd.isna(x) else x) \n",
    "\n",
    "aol_trie = pygtrie.CharTrie()\n",
    "F = data.ShortQuery.value_counts().to_dict()"
   ]
  },
  {
   "cell_type": "code",
   "execution_count": 10,
   "metadata": {},
   "outputs": [
    {
     "data": {
      "text/html": [
       "<div>\n",
       "<style scoped>\n",
       "    .dataframe tbody tr th:only-of-type {\n",
       "        vertical-align: middle;\n",
       "    }\n",
       "\n",
       "    .dataframe tbody tr th {\n",
       "        vertical-align: top;\n",
       "    }\n",
       "\n",
       "    .dataframe thead th {\n",
       "        text-align: right;\n",
       "    }\n",
       "</style>\n",
       "<table border=\"1\" class=\"dataframe\">\n",
       "  <thead>\n",
       "    <tr style=\"text-align: right;\">\n",
       "      <th></th>\n",
       "      <th>AnonID</th>\n",
       "      <th>Query</th>\n",
       "      <th>QueryTime</th>\n",
       "      <th>ItemRank</th>\n",
       "      <th>ClickURL</th>\n",
       "      <th>ShortQuery</th>\n",
       "    </tr>\n",
       "  </thead>\n",
       "  <tbody>\n",
       "    <tr>\n",
       "      <th>1412931</th>\n",
       "      <td>3541615</td>\n",
       "      <td>el paso texas telephone white pages</td>\n",
       "      <td>2006-05-27 15:37:45</td>\n",
       "      <td>NaN</td>\n",
       "      <td>None</td>\n",
       "      <td>el paso texas telephone white pages</td>\n",
       "    </tr>\n",
       "    <tr>\n",
       "      <th>1248248</th>\n",
       "      <td>3126217</td>\n",
       "      <td>billyjack.com</td>\n",
       "      <td>2006-04-04 12:29:44</td>\n",
       "      <td>2.0</td>\n",
       "      <td>http://www.billyjack.com</td>\n",
       "      <td>billyjack.com</td>\n",
       "    </tr>\n",
       "    <tr>\n",
       "      <th>1152188</th>\n",
       "      <td>2884498</td>\n",
       "      <td>gambling corporation</td>\n",
       "      <td>2006-05-12 08:49:40</td>\n",
       "      <td>NaN</td>\n",
       "      <td>None</td>\n",
       "      <td>gambling corporation</td>\n",
       "    </tr>\n",
       "    <tr>\n",
       "      <th>2924811</th>\n",
       "      <td>12523704</td>\n",
       "      <td>colombine</td>\n",
       "      <td>2006-04-19 21:13:05</td>\n",
       "      <td>NaN</td>\n",
       "      <td>None</td>\n",
       "      <td>colombine</td>\n",
       "    </tr>\n",
       "    <tr>\n",
       "      <th>2508790</th>\n",
       "      <td>8957027</td>\n",
       "      <td>baileysirishcream</td>\n",
       "      <td>2006-03-18 12:18:29</td>\n",
       "      <td>NaN</td>\n",
       "      <td>None</td>\n",
       "      <td>baileysirishcream</td>\n",
       "    </tr>\n",
       "  </tbody>\n",
       "</table>\n",
       "</div>"
      ],
      "text/plain": [
       "           AnonID                                Query            QueryTime  \\\n",
       "1412931   3541615  el paso texas telephone white pages  2006-05-27 15:37:45   \n",
       "1248248   3126217                        billyjack.com  2006-04-04 12:29:44   \n",
       "1152188   2884498                 gambling corporation  2006-05-12 08:49:40   \n",
       "2924811  12523704                            colombine  2006-04-19 21:13:05   \n",
       "2508790   8957027                    baileysirishcream  2006-03-18 12:18:29   \n",
       "\n",
       "         ItemRank                  ClickURL  \\\n",
       "1412931       NaN                      None   \n",
       "1248248       2.0  http://www.billyjack.com   \n",
       "1152188       NaN                      None   \n",
       "2924811       NaN                      None   \n",
       "2508790       NaN                      None   \n",
       "\n",
       "                                  ShortQuery  \n",
       "1412931  el paso texas telephone white pages  \n",
       "1248248                        billyjack.com  \n",
       "1152188                 gambling corporation  \n",
       "2924811                            colombine  \n",
       "2508790                    baileysirishcream  "
      ]
     },
     "execution_count": 10,
     "metadata": {},
     "output_type": "execute_result"
    }
   ],
   "source": [
    "data.sample(5)"
   ]
  },
  {
   "cell_type": "code",
   "execution_count": 11,
   "metadata": {},
   "outputs": [
    {
     "name": "stderr",
     "output_type": "stream",
     "text": [
      "100%|██████████| 3558411/3558411 [06:19<00:00, 9376.97it/s] \n"
     ]
    }
   ],
   "source": [
    "for i, row in tqdm(data.iterrows(), total=len(data.index)):\n",
    "    if row.ShortQuery is None: continue\n",
    "    if row.ShortQuery in aol_trie:\n",
    "        node = aol_trie[row.ShortQuery]\n",
    "        node.add(F[row.ShortQuery], row.ClickURL, row.ItemRank, row.Query)\n",
    "        aol_trie[row.ShortQuery] = node\n",
    "    else: \n",
    "        aol_trie[row.ShortQuery] = TrieNode()\n",
    "        aol_trie[row.ShortQuery] = aol_trie[row.ShortQuery].add(F[row.ShortQuery], row.ClickURL, row.ItemRank, row.Query)"
   ]
  },
  {
   "cell_type": "code",
   "execution_count": 12,
   "metadata": {},
   "outputs": [
    {
     "name": "stdout",
     "output_type": "stream",
     "text": [
      "sample question surveys ~ TrieNode[[5, 5, 5, 5, 5], ['sample question surveys', 'sample question surveys', 'sample question surveys', 'sample question surveys', 'sample question surveys']]\n",
      "sample questions immigration interview ~ TrieNode[[1], ['sample questions for immigration interview']]\n",
      "sample questions interview ~ TrieNode[[1], ['sample questions for interview']]\n",
      "sample questions family interview ~ TrieNode[[3, 3, 3], ['sample questions for family interview', 'sample questions for family interview', 'sample questions for family interview']]\n",
      "sample questions sociology race ethnicity ~ TrieNode[[1], ['sample questions sociology race and ethnicity']]\n",
      "sample questions biology ~ TrieNode[[2, 2], ['sample questions biology', 'sample questions biology']]\n",
      "sample questions us citizenship test ~ TrieNode[[1], ['sample questions for us citizenship test']]\n",
      "sample questionarie teaching evaluation ~ TrieNode[[1], ['sample questionarie teaching evaluation']]\n",
      "sample questionnaire teaching evaluation ~ TrieNode[[5, 5, 5, 5, 5], ['sample questionnaire teaching evaluation', 'sample questionnaire teaching evaluation', 'sample questionnaire teaching evaluation', 'sample questionnaire teaching evaluation', 'sample questionnaire teaching evaluation']]\n",
      "sample questionnaire clinical research coordinators certification ~ TrieNode[[1], ['sample questionnaire for clinical research coordinators certification']]\n"
     ]
    }
   ],
   "source": [
    "# test trie\n",
    "bag = []\n",
    "for key, val in aol_trie.iteritems(\"sample q\"):\n",
    "    print(key, '~', val)\n",
    "    \n",
    "    #NB: here we assume you store urls in a property of list type. But you can do something different. \n",
    "    bag += val.urls\n",
    "    \n",
    "    assert \"sample question\" in key, \"All examples have `sample question` substring\"\n",
    "    assert key[:len(\"sample question\")] == \"sample question\", \"All examples have `sample question` starting string\"\n",
    "\n",
    "for url in [\"http://www.surveyconnect.com\", \"http://www.custominsight.com\", \n",
    "            \"http://jobsearchtech.about.com\", \"http://www.troy.k12.ny.us\",\n",
    "            \"http://www.flinders.edu.au\", \"http://uscis.gov\"]:\n",
    "    assert url in bag, \"This url should be in a try\""
   ]
  },
  {
   "cell_type": "markdown",
   "metadata": {},
   "source": [
    "## 2. [15] Write a suggest function which is non-sensitive to stop words\n",
    "\n",
    "Suggest options for user query based on Trie you just built.\n",
    "Output results sorted by frequency, print query count for each suggestion. If there is an url available, print the url too. If multiple url-s are available, print the one with the highest rank (the less the better).\n",
    "\n",
    "Pass the asserts.\n",
    "\n",
    "Question for analysis: What is the empirical threshold for minimal prefix for suggest?"
   ]
  },
  {
   "cell_type": "code",
   "execution_count": 13,
   "metadata": {},
   "outputs": [],
   "source": [
    "stops = set('a on at of to is from for and with using the in &'.split())"
   ]
  },
  {
   "cell_type": "code",
   "execution_count": 14,
   "metadata": {},
   "outputs": [
    {
     "name": "stdout",
     "output_type": "stream",
     "text": [
      "Query: trie\n",
      "Results:\n",
      "Query: tried and true tattoo, url: http://www.triedntruetattoo.com\n",
      "Query: triest, no url found\n",
      "Query: triethanalomine, url: http://www.amazon.com\n",
      "Query: tried and failed, no url found\n",
      "Query: tried and truechildren's consignment sale, no url found\n",
      "['tried and true tattoo', 'triest', 'triethanalomine', 'tried and failed', \"tried and truechildren's consignment sale\"]\n",
      "Query: boys and girls club of conyers georgia, url: http://www.bgcma.org\n"
     ]
    }
   ],
   "source": [
    "from collections import defaultdict\n",
    "\n",
    "def complete_user_query(query: str, trie, top_k=5, disable_bar=False, verbose=False) -> list[str]:\n",
    "    \"\"\"Complete user query using trie\n",
    "\n",
    "    Args:\n",
    "        query (str): user query\n",
    "        trie (pygtrie.CharTrie): trie with queries\n",
    "        top_k (int, optional): number of suggestions. Defaults to 5.\n",
    "        disable_bar (bool, optional): disable progress bar. Defaults to False.\n",
    "        verbose (bool, optional): print suggestions. Defaults to False.\n",
    "    \n",
    "    Returns:\n",
    "        list[str]: list of suggestions\n",
    "    \"\"\"\n",
    "    \n",
    "    query = \" \".join(filter(lambda x: x not in stops, query.split()))\n",
    "    if not trie.has_subtrie(query):\n",
    "        return []\n",
    "    keys = defaultdict(lambda: 0)\n",
    "    nodes = defaultdict(lambda: [])    \n",
    "\n",
    "    for key, node in tqdm(list(trie.iteritems(query)), desc=f\"Searching for suggests for \\\"{query}\\\" ...\", disable=disable_bar):\n",
    "        keys[key] += sum(node.frequencies)\n",
    "        nodes[key].extend(list(zip(node.queries, node.urls, node.ranks)))\n",
    "    keys = list(keys.items())\n",
    "    keys.sort(key=lambda x: x[1], reverse=True)\n",
    "   \n",
    "    suggestions = [nodes[x[0]] for x in keys[:top_k]]\n",
    "    output_queries = []\n",
    "    output_urls = []\n",
    "    output_ranks = []\n",
    "    for suggestion in suggestions:\n",
    "        result_query = suggestion[0][0]\n",
    "        suggestion_url = None\n",
    "        url_rank = -1\n",
    "        for q, u, r in suggestion:\n",
    "            if r > url_rank: \n",
    "                suggestion_url = u\n",
    "                result_query = q\n",
    "        output_queries.append(result_query)\n",
    "        output_urls.append(suggestion_url)\n",
    "        output_ranks.append(url_rank)\n",
    "\n",
    "    if verbose:\n",
    "        for q, u in zip(output_queries, output_urls): \n",
    "            if u is not None:\n",
    "                print(f\"Query: {q}, url: {u}\")\n",
    "            else:\n",
    "                print(f\"Query: {q}, no url found\")\n",
    "    return output_queries\n",
    "\n",
    "    \n",
    "        \n",
    "inp = \"trie\"\n",
    "print(\"Query:\", inp)\n",
    "print(\"Results:\")\n",
    "res = complete_user_query(inp, aol_trie, verbose=True, disable_bar=True)\n",
    "print(res)\n",
    "\n",
    "\n",
    "#NB we assume you return suggested query string only\n",
    "assert res[0] == \"tried and true tattoo\"\n",
    "assert res[1] == \"triest\" or res[1] == \"triethanalomine\"\n",
    "\n",
    "assert \"boys and girls club of conyers georgia\" \\\n",
    "            in complete_user_query(\"boys girls club conyers\", aol_trie, 10, verbose=True, disable_bar=True), \"Should be here\""
   ]
  },
  {
   "cell_type": "markdown",
   "metadata": {},
   "source": [
    "## 3. Measure suggest speed ##\n",
    "\n",
    "### 3.1. [10] Full Trie test\n",
    "\n",
    "Check how fast your search is working. Consider changing your code if it takes too long on average.\n",
    "\n",
    "Sucess criterion:\n",
    "- there is an average and a standard deviation for **multiple runs** of the given bucket.\n",
    "- there is an average and a standard deviation for **multiple runs** of naive search in the unindexed dataset."
   ]
  },
  {
   "cell_type": "code",
   "execution_count": 15,
   "metadata": {},
   "outputs": [
    {
     "data": {
      "text/plain": [
       "1210003"
      ]
     },
     "execution_count": 15,
     "metadata": {},
     "output_type": "execute_result"
    }
   ],
   "source": [
    "# get all queries from dataset\n",
    "all_queries_short = data['ShortQuery'][data['ShortQuery'].notnull()].unique()\n",
    "len(all_queries_short)"
   ]
  },
  {
   "cell_type": "code",
   "execution_count": 16,
   "metadata": {},
   "outputs": [
    {
     "name": "stderr",
     "output_type": "stream",
     "text": [
      "Running queries with `trie_index_search` ...: 100%|██████████| 11/11 [00:05<00:00,  2.04it/s, Query: Barbara ]            \n",
      "Running queries with `no_index_search` ...: 100%|██████████| 11/11 [01:55<00:00, 10.51s/it, Query: Barbara ]            \n"
     ]
    }
   ],
   "source": [
    "import time\n",
    "import numpy as np\n",
    "import matplotlib.pyplot as plt\n",
    "\n",
    "\n",
    "inp_queries = [\"inf\", \"the best \", \"information retrieval\", \"sherlock hol\", \"carnegie mell\", \n",
    "               \"babies r\", \"new york\", \"googol\", \"inter\", \"USA sta\", \"Barbara \"]\n",
    "\n",
    "\n",
    "def no_index_search(query):\n",
    "    \"\"\"Search for queries in `all_queries_short` whose prefix is equal to `query`\n",
    "\n",
    "    Args:\n",
    "        query (str): query to search for\n",
    "\n",
    "    Returns:\n",
    "        list[str]: list of queries whose prefix is equal to `query`\n",
    "    \"\"\"\n",
    "    query = filter_query(query)\n",
    "    queries = []\n",
    "    for q in all_queries_short:\n",
    "        if q.startswith(query):\n",
    "            queries.append(q)\n",
    "    queries.sort(key=F.__getitem__)\n",
    "    return queries\n",
    "\n",
    "def trie_index_search(query):\n",
    "    \"\"\"Search for queries in `aol_trie` whose prefix is equal to `query`\n",
    "\n",
    "    Args:\n",
    "        query (str): query to search for\n",
    "    \n",
    "    Returns:\n",
    "        list[str]: list of queries whose prefix is equal to `query`\n",
    "    \"\"\"\n",
    "    query = filter_query(query)\n",
    "    queries = []\n",
    "    if not aol_trie.has_subtrie(query):\n",
    "        return []\n",
    "    for q in aol_trie.iteritems(query):\n",
    "        queries.append(q[0])\n",
    "    return queries\n",
    "\n",
    "def estimate_performance(search_function, num_calls=100, queries=inp_queries):\n",
    "    \"\"\"Estimate performance of `search_function` by running it `num_calls` times\n",
    "\n",
    "    Args:\n",
    "        search_function (function): function to estimate performance of\n",
    "        num_calls (int, optional): number of calls to `search_function`. Defaults to 100.\n",
    "        queries (list[str], optional): queries to search for. Defaults to inp_queries.\n",
    "\n",
    "    Returns:\n",
    "        tuple[np.ndarray, np.ndarray]: mean and standard deviation of time for each query\n",
    "    \"\"\"\n",
    "    times = []\n",
    "    with tqdm(queries, desc=f\"Running queries with `{search_function.__name__}` ...\") as t:\n",
    "\n",
    "        for query in t:\n",
    "            t.set_postfix_str(f\"Query: {query}\")\n",
    "            times.append([])\n",
    "            for _ in range(num_calls):\n",
    "                start = time.time()\n",
    "                search_function(query)\n",
    "                end = time.time()\n",
    "                times[-1].append(end - start)\n",
    "    return np.mean(times, axis=1), np.std(times, axis=1)\n",
    "\n",
    "trie_index_mean, trie_index_std = estimate_performance(trie_index_search, num_calls=100, queries=inp_queries)\n",
    "no_index_mean, no_index_std = estimate_performance(no_index_search)"
   ]
  },
  {
   "cell_type": "code",
   "execution_count": 17,
   "metadata": {},
   "outputs": [
    {
     "data": {
      "image/png": "[encoded data removed]",
      "text/plain": [
       "<Figure size 500x1000 with 1 Axes>"
      ]
     },
     "metadata": {},
     "output_type": "display_data"
    }
   ],
   "source": [
    "plt.figure(figsize=(5, 10))\n",
    "plt.bar(np.arange(len(inp_queries)), no_index_mean, yerr=no_index_std, label=\"No index\")\n",
    "plt.bar(np.arange(len(inp_queries)), trie_index_mean, yerr=trie_index_std, label=\"Trie index\")\n",
    "plt.xticks(np.arange(len(inp_queries)), inp_queries, rotation=90)\n",
    "fmt = lambda x: f\"{x} s\" if x > 1 else f\"{int(x * 1000)} ms\" if x > 1E-3 else f\"{int(x * 1E6)} mcs\" \n",
    "for i, (v, s) in enumerate(zip(trie_index_mean, trie_index_std)):\n",
    "    plt.text(i - 0.2, max(0.01, v - 0.01), f\"μ={fmt(v)}, σ={round(s, 3)}\", rotation=90)\n",
    "for i, v in enumerate(no_index_mean):\n",
    "    plt.text(i + 0.1, max(0.01, v - 0.01), f\"μ={fmt(v)}, σ={round(s, 3)}\", rotation=90)\n",
    "plt.legend()\n",
    "plt.tight_layout()\n",
    "plt.show()"
   ]
  },
  {
   "cell_type": "markdown",
   "metadata": {},
   "source": [
    "## 4. [10] Add spellchecking to your suggest\n",
    "\n",
    "Try to make your search results as close as possible. Compare top-5 results of each query with top-5 results for corrected.\n",
    "\n",
    "You can use use [pyspellchecker](https://pypi.org/project/pyspellchecker/) `candidates()` call, or use any other spellchecker implementation."
   ]
  },
  {
   "cell_type": "code",
   "execution_count": 18,
   "metadata": {},
   "outputs": [
    {
     "name": "stdout",
     "output_type": "stream",
     "text": [
      "Requirement already satisfied: pyspellchecker in c:\\users\\aleksandr\\appdata\\local\\packages\\pythonsoftwarefoundation.python.3.10_qbz5n2kfra8p0\\localcache\\local-packages\\python310\\site-packages (0.7.2)Note: you may need to restart the kernel to use updated packages.\n",
      "\n",
      "Requirement already satisfied: pylcs in c:\\users\\aleksandr\\appdata\\local\\packages\\pythonsoftwarefoundation.python.3.10_qbz5n2kfra8p0\\localcache\\local-packages\\python310\\site-packages (0.0.8)\n",
      "Requirement already satisfied: pybind11>=2.2 in c:\\users\\aleksandr\\appdata\\local\\packages\\pythonsoftwarefoundation.python.3.10_qbz5n2kfra8p0\\localcache\\local-packages\\python310\\site-packages (from pylcs) (2.10.4)\n"
     ]
    },
    {
     "name": "stderr",
     "output_type": "stream",
     "text": [
      "\n",
      "[notice] A new release of pip is available: 23.1 -> 23.1.2\n",
      "[notice] To update, run: C:\\Users\\Aleksandr\\AppData\\Local\\Microsoft\\WindowsApps\\PythonSoftwareFoundation.Python.3.10_qbz5n2kfra8p0\\python.exe -m pip install --upgrade pip\n"
     ]
    }
   ],
   "source": [
    "%pip install pyspellchecker pylcs"
   ]
  },
  {
   "cell_type": "code",
   "execution_count": 21,
   "metadata": {},
   "outputs": [
    {
     "name": "stdout",
     "output_type": "stream",
     "text": [
      "580462\n"
     ]
    }
   ],
   "source": [
    "import spellchecker\n",
    "from itertools import product\n",
    "\n",
    "# load words from queries to spellchecker\n",
    "# using edit distance 1 to make results\n",
    "# as close to original as possible\n",
    "vocab_words = list()\n",
    "cor = spellchecker.SpellChecker(language=None, distance=1, local_dictionary={})\n",
    "for additional_words in data.Query[data.Query.notna()]:\n",
    "    vocab_words.extend(additional_words.split())\n",
    "\n",
    "# load words from queries to spellchecker\n",
    "cor.word_frequency.load_words(vocab_words)\n",
    "# create set of words for fast check if word is in vocab\n",
    "vocab = set(vocab_words)\n",
    "\n",
    "\n",
    "def corrections(word):\n",
    "    \"\"\"Get possible corrections for word from vocab.\n",
    "    \n",
    "    Args:\n",
    "        word (str): word to correct\n",
    "\n",
    "    Returns:\n",
    "        list[str]: list of possible corrections\n",
    "    \"\"\"\n",
    "    return list(filter(lambda x: x in vocab, cor.edit_distance_1(word))) + [word]\n",
    "\n",
    "def freq_score(words):\n",
    "    \"\"\"Get frequency score for list of words.\n",
    "\n",
    "    Args:\n",
    "        words (list[str]): list of words\n",
    "    \n",
    "    Returns:\n",
    "        int: sum of frequencies for all words\n",
    "    \"\"\"\n",
    "    return sum(map(cor.word_frequency.__getitem__, words))\n",
    "\n",
    "def complete_user_query_with_spellchecker(query, trie, top_k=5) -> list[str]:\n",
    "    # correct query first with pyspellchecker\n",
    "    # then search in trie\n",
    "    # return top-k results\n",
    "    words = query.split()\n",
    "    # produce all the combinations of words with corrected candidates\n",
    "    corrected_words = list(product(*[corrections(x) for x in words[:-1]]))\n",
    "    best_correction = list(max(corrected_words, key=freq_score))\n",
    "    best_correction.append(words[-1])\n",
    "    query = \" \".join(best_correction)\n",
    "    if not trie.has_subtrie(query):\n",
    "        return []\n",
    "    keys = defaultdict(lambda: 0)\n",
    "    for item in tqdm(list(trie.iteritems(query)), desc=f\"Searching for suggests for \\\"{query}\\\" ...\"):\n",
    "        keys[item[1].queries[0]] += sum(item[1].frequencies)\n",
    "    keys = list(keys.items())\n",
    "    keys.sort(key=lambda x: x[1], reverse=True)\n",
    "    return [x[0] for x in keys[:top_k]]"
   ]
  },
  {
   "cell_type": "code",
   "execution_count": 22,
   "metadata": {},
   "outputs": [
    {
     "name": "stderr",
     "output_type": "stream",
     "text": [
      "Searching for suggests for \"sherlock hol\" ...: 100%|██████████| 5/5 [00:00<?, ?it/s]\n",
      "Searching for suggests for \"sherlock hol\" ...: 100%|██████████| 5/5 [00:00<?, ?it/s]\n",
      "Searching for suggests for \"carnegie mell\" ...: 100%|██████████| 2/2 [00:00<?, ?it/s]\n",
      "Searching for suggests for \"carnegie mell\" ...: 100%|██████████| 2/2 [00:00<?, ?it/s]\n",
      "Searching for suggests for \"babies r\" ...: 100%|██████████| 36/36 [00:00<?, ?it/s]\n",
      "Searching for suggests for \"babies r\" ...: 100%|██████████| 36/36 [00:00<?, ?it/s]\n"
     ]
    }
   ],
   "source": [
    "inp_queries = [\"inormation retrieval\", \"shelrock hol\", \"carnagie mell\", \"babis r\", \"Barrbara \"]\n",
    "inp_queries_corrected = [\"information retrieval\", \"sherlock hol\", \"carnegie mell\", \"babies r\", \"Barbara \"]\n",
    "\n",
    "for q, qc in zip(inp_queries, inp_queries_corrected):\n",
    "    assert complete_user_query(qc, aol_trie, 5) == \\\n",
    "            complete_user_query_with_spellchecker(q, aol_trie, 5), \"Assert {} and {} give different results\".format(q, qc)"
   ]
  }
 ],
 "metadata": {
  "kernelspec": {
   "display_name": "Python 3 (ipykernel)",
   "language": "python",
   "name": "python3"
  },
  "language_info": {
   "codemirror_mode": {
    "name": "ipython",
    "version": 3
   },
   "file_extension": ".py",
   "mimetype": "text/x-python",
   "name": "python",
   "nbconvert_exporter": "python",
   "pygments_lexer": "ipython3",
   "version": "3.10.11"
  }
 },
 "nbformat": 4,
 "nbformat_minor": 4
}
