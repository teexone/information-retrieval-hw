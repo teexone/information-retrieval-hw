{
 "cells": [
  {
   "cell_type": "code",
   "execution_count": 20,
   "metadata": {},
   "outputs": [],
   "source": [
    "import numpy as np\n",
    "import matplotlib.pyplot as plt\n",
    "import seaborn as sns"
   ]
  },
  {
   "cell_type": "markdown",
   "metadata": {},
   "source": [
    "# 1. Measure and improve\n",
    "\n",
    "How do we know that search engine's quality improved (or at least haven't deteriorated) because of our changes?\n",
    "\n",
    "All we need is a way to ***evaluate*** our search engine. We will consider some of the popular evaluation techniques:\n",
    "\n",
    "1. Mean Average Precision\n",
    "2. 11-Point Interpolated Average\n",
    "3. Normalized Discounted Cumulative Gain (NDCG)\n",
    "4. pFound\n",
    "\n",
    "<!--We will apply them in the context of ranking with language models and will compare two ways of smoothing: additive and Jelinek-Mercer smoothing.\n",
    "-->\n",
    "\n",
    "It's best to go through the [book](https://nlp.stanford.edu/IR-book/pdf/irbookonlinereading.pdf) *chapter 8*, concretely, *8.4* to understand the key concepts of this lab. Here we will only present some excerpts from it."
   ]
  },
  {
   "cell_type": "markdown",
   "metadata": {},
   "source": [
    "## 1.1. [10] Mean Average Precision\n",
    "\n",
    "The most standard metric among the TREC community is *Mean Average Precision* *(MAP)*, which provides a single-figure measure of quality across recall levels. Among evaluation measures, MAP has been shown to have especially good discrimination and stability. For a single information need, Average Precision is the average of the precision value obtained for the set of top $k$ documents existing\n",
    "after each relevant document is retrieved, and this value is then averaged over information needs (queries). \n",
    "Assume we have a bucket $Q$ of queries $q_j\\in Q$.\n",
    "If the set of **relevant documents** for an information need (query) $q_j$ is {d<sub>1</sub>, . . . d<sub>m<sub>j</sub></sub>} and R<sub>jk</sub> is the set of ranked retrieval results from the top result until you get to document d<sub>k</sub>, then\n",
    "\n",
    "![](https://i.imgur.com/EGQMHVq.png)\n",
    "\n",
    "Implement this metric in the `mean_avg_precision` function.\n",
    "\n",
    "**NB** Don't make the name of [the metric confuse you](https://towardsdatascience.com/breaking-down-mean-average-precision-map-ae462f623a52). *Average Precision* is the term, which corresponds to the area under precision-recall curve. It's computation is tricky. We suggest to start with implementing [$AveP$](https://en.wikipedia.org/wiki/Evaluation_measures_(information_retrieval)#Average_precision)."
   ]
  },
  {
   "cell_type": "code",
   "execution_count": 21,
   "metadata": {},
   "outputs": [],
   "source": [
    "def mask_relevance(search_result, relevance):\n",
    "    \"\"\"\n",
    "    Calculates a binary mask (NDarray consisting of either 0 or 1)\n",
    "    each bit of which corresponds to whether a document on this position\n",
    "    is relevant\n",
    "\n",
    "    Args:\n",
    "        - `search_result`: list of ranked results for each query [doc_id1, doc_id2, ...]\n",
    "        - `relevance`:  list, [(relevant_doc_id1, score1), (relevant_doc_id2, score2), ...]\n",
    "\n",
    "    Returns:\n",
    "        - `numpy.ndarray` - relevance bitmask \n",
    "    \"\"\"\n",
    "    N = len(search_result)\n",
    "    relevance_mask = np.zeros(N)\n",
    "    # Generate relevance mask based on presence in relevance dictionary\n",
    "    relevance_mask[(np.array(relevance) - 1)[:, 0]] = 1\n",
    "    # Rearrange the mask according to the order in `search_result`\n",
    "    relevance_mask = relevance_mask[np.array(search_result) - 1]\n",
    "    return relevance_mask\n",
    "\n",
    "def precision(search_result, relevance):\n",
    "    \"\"\"\n",
    "    Calculates point-wise precision for given query \n",
    "\n",
    "    Args:\n",
    "        - `search_result`: list of ranked results for each query [doc_id1, doc_id2, ...]\n",
    "        - `relevance`:  list, [(relevant_doc_id1, score1), (relevant_doc_id2, score2), ...]\n",
    "\n",
    "    Returns:\n",
    "        - `numpy.ndarray` - point-wise precision\n",
    "    \"\"\"\n",
    "    N = len(search_result)\n",
    "    relevance_mask = mask_relevance(search_result, relevance)\n",
    "    precision = np.zeros(N)\n",
    "    # Calculate point-wise precision\n",
    "    for p in range(N):\n",
    "        precision[p] = relevance_mask[:(1 + p)].sum() / (1 + p)\n",
    "    return precision\n",
    "\n",
    "def average_precision(search_result, relevance):\n",
    "    \"\"\"\n",
    "    Calculates AveP metric\n",
    "\n",
    "    Args:\n",
    "        - `search_result`: list of ranked results for each query [doc_id1, doc_id2, ...]\n",
    "        - `relevance`:  list, [(relevant_doc_id1, score1), (relevant_doc_id2, score2), ...]\n",
    "\n",
    "    Returns:\n",
    "        - `numpy.float64` - average precision among query\n",
    "\n",
    "    \"\"\"\n",
    "    mask = mask_relevance(search_result, relevance)\n",
    "    # Sum over p(r) * dr\n",
    "    return (precision(search_result, relevance)[mask.astype(bool)].sum() / (mask.sum())).astype(np.float64)\n",
    "\n",
    "def mean_avg_precision(search_results, relevance):\n",
    "    \"\"\"\n",
    "    Calculates mAP metric\n",
    "\n",
    "    Args:\n",
    "        - `search_results`: list of lists of ranked results for each query [[doc_id1, doc_id2,...], ...]\n",
    "        - `relevance`: dict, query_id:[(relevant_doc_id1, score1), (relevant_doc_id2, score2), ...]\n",
    "\n",
    "    Returns:\n",
    "        - `numpy.float64` - average precision among all queries\n",
    "\n",
    "    \"\"\"\n",
    "    zipped = [(search_results[i], relevance[i + 1]) for i in range(len(search_results))]\n",
    "    return np.mean(list(map(lambda x: average_precision(*x), zipped))).astype(np.float64)"
   ]
  },
  {
   "cell_type": "markdown",
   "metadata": {},
   "source": [
    "### 1.1.1. Tests"
   ]
  },
  {
   "cell_type": "code",
   "execution_count": 22,
   "metadata": {},
   "outputs": [
    {
     "name": "stdout",
     "output_type": "stream",
     "text": [
      "map_test 0.6464285714285714\n"
     ]
    }
   ],
   "source": [
    "test_relevance = {1: [(9, 1), (1, 2), (8, 3)], 2: [(5, 1), (9, 2), (6, 3)], \n",
    "                  3: [(9, 1), (4, 2), (6, 3)], 4: [(10, 1), (4, 2), (7, 3)], \n",
    "                  5: [(4, 1), (2, 2), (8, 3)], 6: [(2, 1), (9, 2), (4, 3)], \n",
    "                  7: [(1, 1), (2, 2), (3, 3)], 8: [(3, 1), (2, 2), (6, 3)], \n",
    "                  9: [(1, 1), (4, 2), (3, 3)], 10: [(10, 1), (7, 2), (8, 3)]}\n",
    "test_results = [[4, 5, 3, 6, 1, 2, 8, 9, 10, 7], [7, 5, 6, 3, 1, 8, 9, 4, 2, 10], \n",
    "                [8, 3, 4, 5, 9, 6, 1, 10, 2, 7], [4, 5, 7, 3, 6, 10, 1, 9, 2, 8], \n",
    "                [4, 8, 3, 5, 6, 7, 2, 1, 10, 9], [9, 7, 6, 5, 2, 4, 10, 1, 3, 8], \n",
    "                [3, 1, 5, 2, 10, 6, 7, 9, 8, 4], [9, 2, 4, 10, 8, 3, 7, 6, 1, 5], \n",
    "                [3, 4, 6, 1, 5, 10, 7, 2, 8, 9], [8, 10, 4, 1, 3, 7, 5, 6, 9, 2]]\n",
    "\n",
    "\n",
    "map_test = mean_avg_precision(test_results, test_relevance)\n",
    "print(\"map_test\", map_test)\n",
    "assert np.isclose(map_test, 0.646, atol=1e-03)\n",
    "assert mean_avg_precision(test_results[:5], test_relevance) > mean_avg_precision(test_results[5:10], test_relevance)"
   ]
  },
  {
   "cell_type": "markdown",
   "metadata": {},
   "source": [
    "## 1.2. [15] 11-Point Interpolated Average\n",
    "\n",
    "In a ranked retrieval context, appropriate sets of retrieved documents are naturally given by the top k retrieved documents. For each such set, precision and recall values can be plotted to give a precision-recall curve, such as this one (blue line):\n",
    "\n",
    "![](https://i.imgur.com/QnvDLAJ.png)\n",
    "\n",
    "Precision-recall curves have a distinctive saw-tooth shape: if the *(k + 1)<sup>th</sup>* document retrieved is nonrelevant then recall is the same as for the top k documents, but precision has dropped. If it is relevant, then both precision and recall increase, and the curve jags up and to the right.\n",
    "\n",
    "It is often useful to remove these jiggles and the standard way to do this is with an *interpolated precision*: the interpolated precision *p<sub>interp</sub>* at a certain recall level *r* is defined as the highest precision found for any recall level *r′* ≥ *r*:\n",
    "\n",
    "![](https://i.imgur.com/GMl2rQw.png)\n",
    "\n",
    "The justification is that almost anyone would be prepared to look at a few more documents if it would increase the percentage of the viewed set that were relevant (that is, if the precision of the larger set is higher). Interpolated precision is shown by a red line in the figure above.\n",
    "\n",
    "Examining this information for a single query may be useful, but usually we are more interested in a composite metrics, which will score over all test queries. The traditional way of doing this is the *11-point interpolated average*. For each information need, the interpolated precision is measured at the 11 recall levels of 0.0, 0.1, 0.2, . . . , 1.0. Then we average interpolated precision over all queries in the test collection and plot, like here:\n",
    "\n",
    "![](https://i.imgur.com/6wDmtp2.png)\n",
    "\n",
    "\n",
    "Plotting a number of such graphs for different versions of search engine on the same plot helps to compare their performance.\n",
    "\n",
    "You need to incorporate this logic into `eleven_points_interpolated_avg` function. Break it down to subfuctions as it seems necessary to you."
   ]
  },
  {
   "cell_type": "code",
   "execution_count": 23,
   "metadata": {},
   "outputs": [],
   "source": [
    "def recall(search_result, relevance):\n",
    "    \"\"\"\n",
    "    Calculates point-wise recall for given query \n",
    "\n",
    "    Args:\n",
    "        - `search_result`: list of ranked results for each query [doc_id1, doc_id2, ...]\n",
    "        - `relevance`:  list, [(relevant_doc_id1, score1), (relevant_doc_id2, score2), ...]\n",
    "\n",
    "    Returns:\n",
    "        - `numpy.ndarray` - point-wise recall\n",
    "    \"\"\"\n",
    "    N = len(search_result)\n",
    "    relevance_mask = mask_relevance(search_result, relevance)\n",
    "    M = relevance_mask.sum()\n",
    "    r = np.zeros(N)\n",
    "    # Calculate point-wise precision\n",
    "    for p in range(N):\n",
    "        r[p] = relevance_mask[:(1 + p)].sum()\n",
    "    return np.divide(r, M).astype(np.float64)\n",
    "\n",
    "def interpolate11(precision: np.ndarray, recall: np.ndarray): \n",
    "    \"\"\"\n",
    "    Calculates 11-point interpolation for a single query (precision/recall pair)\n",
    "\n",
    "    Args:\n",
    "        - `precision`:  np.ndarray, pre-calculated point-wise precision array\n",
    "        - `recall`:     np.ndarray, pre-calculated point-wise precision recall\n",
    "\n",
    "    Returns:\n",
    "        - `numpy.ndarray` - array of 11 elements: interpolated precision \n",
    "    \"\"\"\n",
    "    p_inter = np.zeros(11)\n",
    "    for i, r in enumerate(np.linspace(0, 1, num=11)):\n",
    "        p_inter[i] = precision[recall >= r].max()\n",
    "    return p_inter\n",
    "\n",
    "        \n",
    "def eleven_points_interpolated_avg(search_results, relevance, plot=True):\n",
    "    \"\"\"\n",
    "    Calculates average 11-point interpolation for a query\n",
    "\n",
    "    Args:\n",
    "        - `search_results`: list of lists of ranked results for each query [[doc_id1, doc_id2,...], ...]\n",
    "        - `relevance`: dict, query_id:[(relevant_doc_id1, score1), (relevant_doc_id2, score2), ...]\n",
    "\n",
    "    Returns:\n",
    "        - `numpy.ndarray` - array of 11 elements: average interpolated precision \n",
    "    \"\"\"\n",
    "    zipped = [(search_results[i], relevance[i + 1]) for i in range(len(search_results))]\n",
    "    p_inter = []\n",
    "    \n",
    "    for result, relev in zipped:\n",
    "        p = precision(result, relev)\n",
    "        r = recall(result, relev)\n",
    "        p_inter.append(interpolate11(p, r))\n",
    "    result = np.mean(np.array(p_inter), axis=0)\n",
    "    if plot:\n",
    "        sns.lineplot(x=np.linspace(0, 1, 11), y=result)\n",
    "        plt.show()\n",
    "\n",
    "    return result"
   ]
  },
  {
   "cell_type": "code",
   "execution_count": 24,
   "metadata": {},
   "outputs": [
    {
     "name": "stdout",
     "output_type": "stream",
     "text": [
      "[[0.  0.  0.  0.  1.  0.  1.  1.  0.  0. ]\n",
      " [0.  0.  0.  0.  0.2 0.2 0.3 0.4 0.3 0.3]\n",
      " [0.  0.  0.  0.  0.3 0.3 0.7 1.  1.  1. ]]\n",
      "[0.4 0.4 0.4 0.4 0.4 0.4 0.4 0.4 0.4 0.4 0.4]\n"
     ]
    }
   ],
   "source": [
    "result = test_results[0]\n",
    "relevance = test_relevance[1]\n",
    "mask = mask_relevance(result, relevance)\n",
    "p = precision(result, relevance)\n",
    "r = recall(result, relevance)\n",
    "p_inter = interpolate11(p, r)\n",
    "with np.printoptions(linewidth=200, precision=1):\n",
    "    print(np.vstack((mask, p, r)))\n",
    "    print(p_inter)"
   ]
  },
  {
   "cell_type": "markdown",
   "metadata": {},
   "source": [
    "### 1.2.1.Tests"
   ]
  },
  {
   "cell_type": "code",
   "execution_count": 25,
   "metadata": {},
   "outputs": [
    {
     "data": {
      "image/png": "[encoded data removed]",
      "text/plain": [
       "<Figure size 640x480 with 1 Axes>"
      ]
     },
     "metadata": {},
     "output_type": "display_data"
    }
   ],
   "source": [
    "eleven_test = eleven_points_interpolated_avg(test_results, test_relevance, plot=True)\n",
    "assert all(eleven_test[k] >= eleven_test[k+1] for k in range(len(eleven_test)-1))"
   ]
  },
  {
   "cell_type": "markdown",
   "metadata": {},
   "source": [
    "## 1.3. [10] Normalized Discounted Cumulative Gain\n",
    "\n",
    "NDCG metric is designed for situations of non-binary notions of relevance. It is evaluated over some number $k$ of top search results (in our case we will evaluate over the whole dataset, since it is small). \n",
    "\n",
    "For a set of queries $Q$, let $R(j,d)$ be the relevance score assessors gave to document $d$ for query $j$. Then,\n",
    "\n",
    "![](https://i.imgur.com/LLogCYa.png)\n",
    "\n",
    "where $Z_{kj}$ is a normalization factor calculated to make it so that a perfect ranking’s NDCG at $k$ for query $j$ is 1. In other words, we divide calculated DCG score by ideal DCG score. \n",
    "\n",
    "Implement this metric in `NDCG` function."
   ]
  },
  {
   "attachments": {},
   "cell_type": "markdown",
   "metadata": {},
   "source": [
    "### The issue with (5-rel) have been existing for two years at least. Please fix it for future students "
   ]
  },
  {
   "cell_type": "code",
   "execution_count": 26,
   "metadata": {},
   "outputs": [],
   "source": [
    "def score5(search_result, relevance):\n",
    "    N = len(search_result)\n",
    "    relevance = np.array(relevance)\n",
    "    relev = np.zeros(N) + 5\n",
    "    relev[relevance[:, 0] - 1] = relevance[:, 1]\n",
    "    return 5 - relev[np.array(search_result) - 1]\n",
    "\n",
    "def DCG(search_result, relevance):\n",
    "    return np.sum((np.power(2, score5(search_result, relevance)) - 1) / np.log2(1 + np.arange(1, 1 + len(search_result))))\n",
    "\n",
    "def IDCG(search_result, relevance):\n",
    "    n = len(relevance)\n",
    "    s5 = np.sort(score5(search_result, relevance))[::-1]\n",
    "    return np.sum((np.power(2, s5) - 1)[:n] / np.log2(1 + np.arange(1, 1 + n)))\n",
    "\n",
    "def NDCG(search_results, relevance):    \n",
    "    zipped = [(search_results[i], relevance[i + 1]) for i in range(len(search_results))]\n",
    "    outputs = []    \n",
    "    for result, relev in zipped:\n",
    "        outputs.append(DCG(result, relev) / IDCG(result, relev))\n",
    "    return np.mean(outputs).astype(np.float64)"
   ]
  },
  {
   "cell_type": "code",
   "execution_count": 27,
   "metadata": {},
   "outputs": [
    {
     "data": {
      "text/plain": [
       "array([0., 0., 0., 0., 3., 0., 2., 4., 0., 0.])"
      ]
     },
     "execution_count": 27,
     "metadata": {},
     "output_type": "execute_result"
    }
   ],
   "source": [
    "score5(test_results[0], test_relevance[1])"
   ]
  },
  {
   "cell_type": "markdown",
   "metadata": {},
   "source": [
    "### 1.3.1. Tests"
   ]
  },
  {
   "cell_type": "code",
   "execution_count": 28,
   "metadata": {},
   "outputs": [
    {
     "name": "stdout",
     "output_type": "stream",
     "text": [
      "ndcg_test 0.6409675295633275\n"
     ]
    }
   ],
   "source": [
    "ndcg_test = NDCG(test_results, test_relevance)\n",
    "print(\"ndcg_test\", ndcg_test)\n",
    "assert np.isclose(ndcg_test, 0.640, atol=1e-03)\n",
    "assert NDCG(test_results[:5], test_relevance) < NDCG(test_results[5:10], test_relevance)"
   ]
  },
  {
   "cell_type": "markdown",
   "metadata": {},
   "source": [
    "## 1.4. [15] pFound ## \n",
    "**pFound** -- ranking metric invented in [Yandex](http://romip.ru/romip2009/15_yandex.pdf). This metric models user behaviour when looking at the search engine representation page (SERP). Metric assumes a user is inspecting a list from the top to the bottom. There are 2 global parameters, controlling behaviour:\n",
    "- `pBreak` -- how probable, that the user will become tired and just quit at this position (`0.15` by default).\n",
    "- `pRel` -- how probable the user will click the document if this document is relevant (`0.4` by default for a relevan document, `0` is given to irrelevant).\n",
    "\n",
    "Then, to compute pFound for the exact page we do:\n",
    "\n",
    "$pLook_i = pLook_{i-1}*(1 - pBreak)*(1 - pRel_{i-1})$\n",
    "\n",
    "$pFound = \\sum_{i=1}^{N}pLook_i*pRel_i$\n",
    "\n",
    "Implement `pFound` below."
   ]
  },
  {
   "cell_type": "code",
   "execution_count": 29,
   "metadata": {},
   "outputs": [],
   "source": [
    "pBreak = .15\n",
    "pRel = .4\n",
    "def pFound(search_results, relevance):\n",
    "    results = []\n",
    "    for result, (_, relev) in zip(search_results, sorted(relevance.items(), key=lambda x: x[0])):\n",
    "        relev = mask_relevance(result, relev) * pRel\n",
    "        pLook = 1\n",
    "        pFound = pLook * relev[0]\n",
    "        for i in range(1, len(relev)):\n",
    "            pLook = pLook * (1 - pBreak) * (1 - relev[i-1])\n",
    "            pFound += pLook * relev[i]\n",
    "        results.append(pFound)\n",
    "    return np.mean(results).astype(np.float64)"
   ]
  },
  {
   "cell_type": "markdown",
   "metadata": {},
   "source": [
    "### 1.4.1. Tests"
   ]
  },
  {
   "cell_type": "code",
   "execution_count": 30,
   "metadata": {},
   "outputs": [
    {
     "name": "stdout",
     "output_type": "stream",
     "text": [
      "pFound 0.5821558180674999\n"
     ]
    }
   ],
   "source": [
    "pFound_test = pFound(test_results, test_relevance)\n",
    "print(\"pFound\", pFound_test)\n",
    "assert np.isclose(pFound_test, 0.582, atol=1e-03)\n",
    "assert pFound(test_results[:5], test_relevance) > pFound(test_results[5:10], test_relevance)"
   ]
  },
  {
   "attachments": {},
   "cell_type": "markdown",
   "metadata": {},
   "source": [
    "Have a nice day! :)"
   ]
  }
 ],
 "metadata": {
  "kernelspec": {
   "display_name": "kaggle",
   "language": "python",
   "name": "python3"
  },
  "language_info": {
   "codemirror_mode": {
    "name": "ipython",
    "version": 3
   },
   "file_extension": ".py",
   "mimetype": "text/x-python",
   "name": "python",
   "nbconvert_exporter": "python",
   "pygments_lexer": "ipython3",
   "version": "3.10.9"
  },
  "vscode": {
   "interpreter": {
    "hash": "3d72d18ebb1b577581ebeb628d83ae7f9db98c064e9a3085466899f5188b563e"
   }
  }
 },
 "nbformat": 4,
 "nbformat_minor": 4
}
